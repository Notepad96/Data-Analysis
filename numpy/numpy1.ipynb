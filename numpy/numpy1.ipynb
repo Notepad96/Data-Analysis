{
  "nbformat": 4,
  "nbformat_minor": 0,
  "metadata": {
    "colab": {
      "name": "numpy1.ipynb",
      "provenance": [],
      "collapsed_sections": [],
      "authorship_tag": "ABX9TyMy55/CJuQqmKcGlHK6BhdZ"
    },
    "kernelspec": {
      "name": "python3",
      "display_name": "Python 3"
    },
    "language_info": {
      "name": "python"
    }
  },
  "cells": [
    {
      "cell_type": "markdown",
      "metadata": {
        "id": "kcTEPyOxmKn7"
      },
      "source": [
        "# Numpy[Numerical Python] : Python에서 대규모 다차원 배열을 사용할 수 있도록 하는 라이브러리"
      ]
    },
    {
      "cell_type": "code",
      "metadata": {
        "id": "HQiouRwRLAAl"
      },
      "source": [
        "import numpy as np"
      ],
      "execution_count": 2,
      "outputs": []
    },
    {
      "cell_type": "code",
      "metadata": {
        "colab": {
          "base_uri": "https://localhost:8080/"
        },
        "id": "Q5jBb7RGPtdh",
        "outputId": "27af19c4-58d1-45b8-95eb-96f6423a5cb3"
      },
      "source": [
        "# List = list(range(5))\n",
        "\n",
        "# numpy\n",
        "np.array([1, 2, 3, 4])"
      ],
      "execution_count": 22,
      "outputs": [
        {
          "output_type": "execute_result",
          "data": {
            "text/plain": [
              "array([1, 2, 3, 4])"
            ]
          },
          "metadata": {
            "tags": []
          },
          "execution_count": 22
        }
      ]
    },
    {
      "cell_type": "code",
      "metadata": {
        "colab": {
          "base_uri": "https://localhost:8080/"
        },
        "id": "sM3bJ6L-nGvx",
        "outputId": "9ade4b2f-8d9e-44f2-b510-19741dcca94c"
      },
      "source": [
        "np.zeros(10, dtype=int)"
      ],
      "execution_count": 24,
      "outputs": [
        {
          "output_type": "execute_result",
          "data": {
            "text/plain": [
              "array([0, 0, 0, 0, 0, 0, 0, 0, 0, 0])"
            ]
          },
          "metadata": {
            "tags": []
          },
          "execution_count": 24
        }
      ]
    },
    {
      "cell_type": "code",
      "metadata": {
        "colab": {
          "base_uri": "https://localhost:8080/"
        },
        "id": "naT4xPqLnMr3",
        "outputId": "2a41e3d1-ba95-47a5-c251-b72471e39952"
      },
      "source": [
        "np.ones(10, dtype=float)"
      ],
      "execution_count": 53,
      "outputs": [
        {
          "output_type": "execute_result",
          "data": {
            "text/plain": [
              "array([1., 1., 1., 1., 1., 1., 1., 1., 1., 1.])"
            ]
          },
          "metadata": {
            "tags": []
          },
          "execution_count": 53
        }
      ]
    },
    {
      "cell_type": "code",
      "metadata": {
        "colab": {
          "base_uri": "https://localhost:8080/"
        },
        "id": "KCrUoB_5L28c",
        "outputId": "5ef07789-11a4-4b28-d997-767d62d995d7"
      },
      "source": [
        "np.empty((4,2)) "
      ],
      "execution_count": 57,
      "outputs": [
        {
          "output_type": "execute_result",
          "data": {
            "text/plain": [
              "array([[4.66273958e-310, 2.14321575e-312],\n",
              "       [2.37663529e-312, 2.56761491e-312],\n",
              "       [1.10343781e-312, 1.06099790e-312],\n",
              "       [4.61746284e-310, 6.91426949e-310]])"
            ]
          },
          "metadata": {
            "tags": []
          },
          "execution_count": 57
        }
      ]
    },
    {
      "cell_type": "code",
      "metadata": {
        "colab": {
          "base_uri": "https://localhost:8080/"
        },
        "id": "XJ2K3CVSnQFY",
        "outputId": "c419014c-9956-475c-c2b1-3a66f9c338d7"
      },
      "source": [
        "np.arange(10)"
      ],
      "execution_count": 26,
      "outputs": [
        {
          "output_type": "execute_result",
          "data": {
            "text/plain": [
              "array([0, 1, 2, 3, 4, 5, 6, 7, 8, 9])"
            ]
          },
          "metadata": {
            "tags": []
          },
          "execution_count": 26
        }
      ]
    },
    {
      "cell_type": "code",
      "metadata": {
        "colab": {
          "base_uri": "https://localhost:8080/"
        },
        "id": "xJniiNpKnL8u",
        "outputId": "2cacc3c3-1742-4600-9076-4f1676d88a46"
      },
      "source": [
        "np.arange(0, 10, 2) # (start, end, step) , end 포함 X"
      ],
      "execution_count": 27,
      "outputs": [
        {
          "output_type": "execute_result",
          "data": {
            "text/plain": [
              "array([0, 2, 4, 6, 8])"
            ]
          },
          "metadata": {
            "tags": []
          },
          "execution_count": 27
        }
      ]
    },
    {
      "cell_type": "code",
      "metadata": {
        "colab": {
          "base_uri": "https://localhost:8080/"
        },
        "id": "ztgK4PDYnlgA",
        "outputId": "c2878610-652c-4cc6-e262-931264e9000e"
      },
      "source": [
        "np.linspace(0, 1, 5)  # (start, end, count)"
      ],
      "execution_count": 28,
      "outputs": [
        {
          "output_type": "execute_result",
          "data": {
            "text/plain": [
              "array([0.  , 0.25, 0.5 , 0.75, 1.  ])"
            ]
          },
          "metadata": {
            "tags": []
          },
          "execution_count": 28
        }
      ]
    },
    {
      "cell_type": "code",
      "metadata": {
        "colab": {
          "base_uri": "https://localhost:8080/"
        },
        "id": "J93Pv2GDnYq5",
        "outputId": "579e5177-2585-4e3c-dcbd-622fcf8cf638"
      },
      "source": [
        "np.random.random( (2,2) ) # "
      ],
      "execution_count": 29,
      "outputs": [
        {
          "output_type": "execute_result",
          "data": {
            "text/plain": [
              "array([[0.4474451 , 0.86281827],\n",
              "       [0.42263658, 0.01657345]])"
            ]
          },
          "metadata": {
            "tags": []
          },
          "execution_count": 29
        }
      ]
    },
    {
      "cell_type": "code",
      "metadata": {
        "colab": {
          "base_uri": "https://localhost:8080/"
        },
        "id": "sBgucgW1n4Gc",
        "outputId": "ee1a2f13-ca1d-404b-db86-eedc15009b97"
      },
      "source": [
        " np.random.normal(0, 1, (2,2)) # (평균, 표준편차, Size)"
      ],
      "execution_count": 31,
      "outputs": [
        {
          "output_type": "execute_result",
          "data": {
            "text/plain": [
              "array([[ 0.78104836,  1.47255134],\n",
              "       [ 0.9759928 , -0.65288074]])"
            ]
          },
          "metadata": {
            "tags": []
          },
          "execution_count": 31
        }
      ]
    },
    {
      "cell_type": "code",
      "metadata": {
        "colab": {
          "base_uri": "https://localhost:8080/"
        },
        "id": "AYhgOL4pn4Mr",
        "outputId": "66321486-6ff0-4588-fe0f-a19eb74394eb"
      },
      "source": [
        "np.random.randint(0, 4, (2,2) ) # (start, end, Size), end 포함 X"
      ],
      "execution_count": 43,
      "outputs": [
        {
          "output_type": "execute_result",
          "data": {
            "text/plain": [
              "array([[3, 3],\n",
              "       [0, 0]])"
            ]
          },
          "metadata": {
            "tags": []
          },
          "execution_count": 43
        }
      ]
    },
    {
      "cell_type": "code",
      "metadata": {
        "id": "orXpONhCpZIF"
      },
      "source": [
        "# ============================================================================================================================="
      ],
      "execution_count": 43,
      "outputs": []
    },
    {
      "cell_type": "code",
      "metadata": {
        "colab": {
          "base_uri": "https://localhost:8080/"
        },
        "id": "teVURQMVptn8",
        "outputId": "159791b0-f972-4084-edc9-4c2245586599"
      },
      "source": [
        "arr = np.random.randint(0, 10, (3, 5))\n",
        "arr"
      ],
      "execution_count": 52,
      "outputs": [
        {
          "output_type": "execute_result",
          "data": {
            "text/plain": [
              "array([[1, 1, 8, 4, 2],\n",
              "       [6, 0, 6, 0, 3],\n",
              "       [4, 6, 8, 0, 1]])"
            ]
          },
          "metadata": {
            "tags": []
          },
          "execution_count": 52
        }
      ]
    },
    {
      "cell_type": "code",
      "metadata": {
        "colab": {
          "base_uri": "https://localhost:8080/"
        },
        "id": "152tq779qTHE",
        "outputId": "eca63559-a136-447b-dd2c-ce878082c9c3"
      },
      "source": [
        "arr.ndim  # 2 차원"
      ],
      "execution_count": 53,
      "outputs": [
        {
          "output_type": "execute_result",
          "data": {
            "text/plain": [
              "2"
            ]
          },
          "metadata": {
            "tags": []
          },
          "execution_count": 53
        }
      ]
    },
    {
      "cell_type": "code",
      "metadata": {
        "colab": {
          "base_uri": "https://localhost:8080/"
        },
        "id": "616tHoxKqKr3",
        "outputId": "2ae77428-a907-4af6-920c-99df59d59923"
      },
      "source": [
        "arr.shape # 구조"
      ],
      "execution_count": 50,
      "outputs": [
        {
          "output_type": "execute_result",
          "data": {
            "text/plain": [
              "(3, 3)"
            ]
          },
          "metadata": {
            "tags": []
          },
          "execution_count": 50
        }
      ]
    },
    {
      "cell_type": "code",
      "metadata": {
        "colab": {
          "base_uri": "https://localhost:8080/"
        },
        "id": "Ddv2XuXUqOik",
        "outputId": "b2d8a6f9-2a8f-4545-96d8-23ef519aed7f"
      },
      "source": [
        "arr.size  # 길이"
      ],
      "execution_count": 55,
      "outputs": [
        {
          "output_type": "execute_result",
          "data": {
            "text/plain": [
              "15"
            ]
          },
          "metadata": {
            "tags": []
          },
          "execution_count": 55
        }
      ]
    },
    {
      "cell_type": "code",
      "metadata": {
        "colab": {
          "base_uri": "https://localhost:8080/"
        },
        "id": "Lb-yQzEDqZB-",
        "outputId": "235b9bce-2adf-48c8-b18f-2e0a0e510231"
      },
      "source": [
        "arr.dtype # 타입"
      ],
      "execution_count": 56,
      "outputs": [
        {
          "output_type": "execute_result",
          "data": {
            "text/plain": [
              "dtype('int64')"
            ]
          },
          "metadata": {
            "tags": []
          },
          "execution_count": 56
        }
      ]
    },
    {
      "cell_type": "code",
      "metadata": {
        "colab": {
          "base_uri": "https://localhost:8080/"
        },
        "id": "2M1zAEzHptrq",
        "outputId": "4ba53d71-8186-428b-9180-06768c3f7a29"
      },
      "source": [
        "arr[0][::2]  # step 주어서 읽기"
      ],
      "execution_count": 63,
      "outputs": [
        {
          "output_type": "execute_result",
          "data": {
            "text/plain": [
              "array([1, 8, 2])"
            ]
          },
          "metadata": {
            "tags": []
          },
          "execution_count": 63
        }
      ]
    },
    {
      "cell_type": "code",
      "metadata": {
        "id": "dPRkDkZSquMq"
      },
      "source": [
        "# ============================================================================================================================="
      ],
      "execution_count": null,
      "outputs": []
    },
    {
      "cell_type": "code",
      "metadata": {
        "id": "bS3w_npRL40o",
        "colab": {
          "base_uri": "https://localhost:8080/"
        },
        "outputId": "3a2df950-43cf-4355-b3ce-f4d2e03e7d2e"
      },
      "source": [
        "# 구조 함수\n",
        "arr = np.arange(10)\n",
        "arr2 = arr.reshape( (5, 2) )  # 구조 변경\n",
        "arr2"
      ],
      "execution_count": 75,
      "outputs": [
        {
          "output_type": "execute_result",
          "data": {
            "text/plain": [
              "array([[0, 1],\n",
              "       [2, 3],\n",
              "       [4, 5],\n",
              "       [6, 7],\n",
              "       [8, 9]])"
            ]
          },
          "metadata": {
            "tags": []
          },
          "execution_count": 75
        }
      ]
    },
    {
      "cell_type": "code",
      "metadata": {
        "colab": {
          "base_uri": "https://localhost:8080/"
        },
        "id": "fP30tC0UsM35",
        "outputId": "e8a5ab04-0559-4d2f-d795-e206728f74c2"
      },
      "source": [
        "arr = np.arange(3)  # 0 1 2\n",
        "arr2 = np.arange(3, 6)  # 3 4 5\n",
        "np.concatenate([arr, arr2]) # 이어서 붙이기"
      ],
      "execution_count": 77,
      "outputs": [
        {
          "output_type": "execute_result",
          "data": {
            "text/plain": [
              "array([0, 1, 2, 3, 4, 5])"
            ]
          },
          "metadata": {
            "tags": []
          },
          "execution_count": 77
        }
      ]
    },
    {
      "cell_type": "code",
      "metadata": {
        "colab": {
          "base_uri": "https://localhost:8080/"
        },
        "id": "qrcUpYCas1Sc",
        "outputId": "89ffeb01-3743-4be0-a920-6102503e42a9"
      },
      "source": [
        "arr = np.arange(4).reshape(2, 2)\n",
        "temp = np.arange(6).reshape(3, 2)\n",
        "np.concatenate([arr, temp], axis=0) # 세로 방향으로 붙임 (아래)"
      ],
      "execution_count": 86,
      "outputs": [
        {
          "output_type": "execute_result",
          "data": {
            "text/plain": [
              "array([[0, 1],\n",
              "       [2, 3],\n",
              "       [0, 1],\n",
              "       [2, 3],\n",
              "       [4, 5]])"
            ]
          },
          "metadata": {
            "tags": []
          },
          "execution_count": 86
        }
      ]
    },
    {
      "cell_type": "code",
      "metadata": {
        "colab": {
          "base_uri": "https://localhost:8080/"
        },
        "id": "gPgAmEjNs1V0",
        "outputId": "3e97f9b6-c9de-46ce-c490-b616de237aca"
      },
      "source": [
        "arr = np.arange(4).reshape(2, 2)\n",
        "temp = np.arange(6).reshape(2, 3)\n",
        "np.concatenate([arr, temp], axis=1) # 가로 방향으로 붙임 (오른쪽)"
      ],
      "execution_count": 87,
      "outputs": [
        {
          "output_type": "execute_result",
          "data": {
            "text/plain": [
              "array([[0, 1, 0, 1, 2],\n",
              "       [2, 3, 3, 4, 5]])"
            ]
          },
          "metadata": {
            "tags": []
          },
          "execution_count": 87
        }
      ]
    },
    {
      "cell_type": "code",
      "metadata": {
        "colab": {
          "base_uri": "https://localhost:8080/"
        },
        "id": "D0izI5zIs1Y0",
        "outputId": "946a8180-d0a1-435f-c6c2-ea4205d349a1"
      },
      "source": [
        "arr = np.arange(12).reshape(4, 3)\n",
        "one, two = np.split(arr, [1], axis=1)\n",
        "arr"
      ],
      "execution_count": 104,
      "outputs": [
        {
          "output_type": "execute_result",
          "data": {
            "text/plain": [
              "array([[ 0,  1,  2],\n",
              "       [ 3,  4,  5],\n",
              "       [ 6,  7,  8],\n",
              "       [ 9, 10, 11]])"
            ]
          },
          "metadata": {
            "tags": []
          },
          "execution_count": 104
        }
      ]
    },
    {
      "cell_type": "code",
      "metadata": {
        "colab": {
          "base_uri": "https://localhost:8080/"
        },
        "id": "LSiX2fvHuvNi",
        "outputId": "549f7662-ec0c-424c-8247-af5e2e6ded3e"
      },
      "source": [
        "one"
      ],
      "execution_count": 105,
      "outputs": [
        {
          "output_type": "execute_result",
          "data": {
            "text/plain": [
              "array([[0],\n",
              "       [3],\n",
              "       [6],\n",
              "       [9]])"
            ]
          },
          "metadata": {
            "tags": []
          },
          "execution_count": 105
        }
      ]
    },
    {
      "cell_type": "code",
      "metadata": {
        "colab": {
          "base_uri": "https://localhost:8080/"
        },
        "id": "u6oBc4nys1bd",
        "outputId": "9280ab35-43d4-45ab-f288-a70d48473e56"
      },
      "source": [
        "two"
      ],
      "execution_count": 106,
      "outputs": [
        {
          "output_type": "execute_result",
          "data": {
            "text/plain": [
              "array([[ 1,  2],\n",
              "       [ 4,  5],\n",
              "       [ 7,  8],\n",
              "       [10, 11]])"
            ]
          },
          "metadata": {
            "tags": []
          },
          "execution_count": 106
        }
      ]
    },
    {
      "cell_type": "code",
      "metadata": {
        "id": "12TQy2gks1eH"
      },
      "source": [
        "# ============================================================================================================================="
      ],
      "execution_count": null,
      "outputs": []
    },
    {
      "cell_type": "code",
      "metadata": {
        "id": "KMs8qfF9L5X9"
      },
      "source": [
        "# Numpy 연산\n",
        "# +, -, *, / 모두 사용하여 연산이 가능하다."
      ],
      "execution_count": 2,
      "outputs": []
    },
    {
      "cell_type": "code",
      "metadata": {
        "id": "uaXsWGpcEUP4"
      },
      "source": [
        "import numpy as np"
      ],
      "execution_count": 3,
      "outputs": []
    },
    {
      "cell_type": "code",
      "metadata": {
        "colab": {
          "base_uri": "https://localhost:8080/"
        },
        "id": "eJpuh0p0u8XZ",
        "outputId": "4b01ebc5-b1f8-4cac-89bc-691b3624c732"
      },
      "source": [
        "arr = np.random.randint(5, 50, size=100)\n",
        "arr"
      ],
      "execution_count": 5,
      "outputs": [
        {
          "output_type": "execute_result",
          "data": {
            "text/plain": [
              "array([30, 39, 46, 44,  5, 28, 44, 23, 29, 43, 39, 35,  7, 26, 33, 47, 29,\n",
              "       29, 18, 20, 16, 14, 24, 47, 37, 13, 26,  7, 41,  8, 30, 13, 19, 11,\n",
              "       47, 13,  5, 10, 11, 14,  7, 37, 29, 41, 24, 29, 30, 21, 17, 44, 46,\n",
              "       33, 42, 34, 30, 36,  7, 28,  9, 24, 19, 28, 41, 40, 32, 22, 11, 16,\n",
              "       21, 19,  6, 28, 12,  7,  9, 29, 20, 16, 28,  6,  8, 26, 49, 48, 49,\n",
              "       45, 13, 31, 34, 21, 39, 16, 38, 39, 29, 49, 44, 46, 36, 33])"
            ]
          },
          "metadata": {
            "tags": []
          },
          "execution_count": 5
        }
      ]
    },
    {
      "cell_type": "code",
      "metadata": {
        "colab": {
          "base_uri": "https://localhost:8080/"
        },
        "id": "U9s9A8kiu8av",
        "outputId": "dde1e4be-d4c3-445e-e6fa-6b7a20d3d247"
      },
      "source": [
        "arr = arr + 5\n",
        "arr"
      ],
      "execution_count": 6,
      "outputs": [
        {
          "output_type": "execute_result",
          "data": {
            "text/plain": [
              "array([35, 44, 51, 49, 10, 33, 49, 28, 34, 48, 44, 40, 12, 31, 38, 52, 34,\n",
              "       34, 23, 25, 21, 19, 29, 52, 42, 18, 31, 12, 46, 13, 35, 18, 24, 16,\n",
              "       52, 18, 10, 15, 16, 19, 12, 42, 34, 46, 29, 34, 35, 26, 22, 49, 51,\n",
              "       38, 47, 39, 35, 41, 12, 33, 14, 29, 24, 33, 46, 45, 37, 27, 16, 21,\n",
              "       26, 24, 11, 33, 17, 12, 14, 34, 25, 21, 33, 11, 13, 31, 54, 53, 54,\n",
              "       50, 18, 36, 39, 26, 44, 21, 43, 44, 34, 54, 49, 51, 41, 38])"
            ]
          },
          "metadata": {
            "tags": []
          },
          "execution_count": 6
        }
      ]
    },
    {
      "cell_type": "code",
      "metadata": {
        "id": "0iWAqgWqu8da"
      },
      "source": [
        "arr = np.arange(4).reshape((2,2))\n",
        "arr2 = np.random.randint(-10, -1, (2,2))"
      ],
      "execution_count": 11,
      "outputs": []
    },
    {
      "cell_type": "code",
      "metadata": {
        "colab": {
          "base_uri": "https://localhost:8080/"
        },
        "id": "wVDjwb7au8gD",
        "outputId": "30afc464-e973-44c4-91be-7fc716de0caa"
      },
      "source": [
        "arr"
      ],
      "execution_count": 13,
      "outputs": [
        {
          "output_type": "execute_result",
          "data": {
            "text/plain": [
              "array([[0, 1],\n",
              "       [2, 3]])"
            ]
          },
          "metadata": {
            "tags": []
          },
          "execution_count": 13
        }
      ]
    },
    {
      "cell_type": "code",
      "metadata": {
        "colab": {
          "base_uri": "https://localhost:8080/"
        },
        "id": "6vEbPq1zGd4s",
        "outputId": "1fbc1ff3-15d0-41cc-cf20-51293653eba1"
      },
      "source": [
        "arr2"
      ],
      "execution_count": 14,
      "outputs": [
        {
          "output_type": "execute_result",
          "data": {
            "text/plain": [
              "array([[ -4,  -2],\n",
              "       [ -4, -10]])"
            ]
          },
          "metadata": {
            "tags": []
          },
          "execution_count": 14
        }
      ]
    },
    {
      "cell_type": "code",
      "metadata": {
        "colab": {
          "base_uri": "https://localhost:8080/"
        },
        "id": "09QK0vTJGeZI",
        "outputId": "6af63cd7-6010-4ade-ab75-949df65d6b7d"
      },
      "source": [
        "arr + arr2"
      ],
      "execution_count": 15,
      "outputs": [
        {
          "output_type": "execute_result",
          "data": {
            "text/plain": [
              "array([[-4, -1],\n",
              "       [-2, -7]])"
            ]
          },
          "metadata": {
            "tags": []
          },
          "execution_count": 15
        }
      ]
    },
    {
      "cell_type": "code",
      "metadata": {
        "id": "V70-S0y7u8it"
      },
      "source": [
        "# ============================================================================================================================="
      ],
      "execution_count": 106,
      "outputs": []
    },
    {
      "cell_type": "code",
      "metadata": {
        "id": "Xjedak2Gu8lW"
      },
      "source": [
        "# Broadcasting : shape 구조가 다른 array간 계산한다.\n",
        "# 가로 길이가 동일하거나 세로 길이가 동일해야 한다. 혹은 하나의 값만 있을 경우 그 값으로 전체를 채워서 계산"
      ],
      "execution_count": 15,
      "outputs": []
    },
    {
      "cell_type": "code",
      "metadata": {
        "colab": {
          "base_uri": "https://localhost:8080/"
        },
        "id": "o4a9mnByG6PI",
        "outputId": "a1cbc8f5-52e2-4dbf-f8a4-2e82c95984ae"
      },
      "source": [
        "arr = np.arange(16).reshape((4,4))\n",
        "arr"
      ],
      "execution_count": 28,
      "outputs": [
        {
          "output_type": "execute_result",
          "data": {
            "text/plain": [
              "array([[ 0,  1,  2,  3],\n",
              "       [ 4,  5,  6,  7],\n",
              "       [ 8,  9, 10, 11],\n",
              "       [12, 13, 14, 15]])"
            ]
          },
          "metadata": {
            "tags": []
          },
          "execution_count": 28
        }
      ]
    },
    {
      "cell_type": "code",
      "metadata": {
        "colab": {
          "base_uri": "https://localhost:8080/"
        },
        "id": "fRRHH5ijG6SJ",
        "outputId": "78ba01b4-cbcf-44ca-ba95-126091913786"
      },
      "source": [
        "arr2 = np.arange(4)\n",
        "arr2"
      ],
      "execution_count": 35,
      "outputs": [
        {
          "output_type": "execute_result",
          "data": {
            "text/plain": [
              "array([0, 1, 2, 3])"
            ]
          },
          "metadata": {
            "tags": []
          },
          "execution_count": 35
        }
      ]
    },
    {
      "cell_type": "code",
      "metadata": {
        "colab": {
          "base_uri": "https://localhost:8080/"
        },
        "id": "6a-rmSK0G6U3",
        "outputId": "fa51774e-ec68-4390-f221-fdd0622f33cd"
      },
      "source": [
        "arr + arr2"
      ],
      "execution_count": 36,
      "outputs": [
        {
          "output_type": "execute_result",
          "data": {
            "text/plain": [
              "array([[ 0,  2,  4,  6],\n",
              "       [ 4,  6,  8, 10],\n",
              "       [ 8, 10, 12, 14],\n",
              "       [12, 14, 16, 18]])"
            ]
          },
          "metadata": {
            "tags": []
          },
          "execution_count": 36
        }
      ]
    },
    {
      "cell_type": "code",
      "metadata": {
        "colab": {
          "base_uri": "https://localhost:8080/"
        },
        "id": "Lhriqx1VG6Xe",
        "outputId": "d7e0f23c-d8de-4ee7-e76a-e7b94b0eebb5"
      },
      "source": [
        "arr3 = np.arange(4).reshape((4,1))\n",
        "arr3"
      ],
      "execution_count": 37,
      "outputs": [
        {
          "output_type": "execute_result",
          "data": {
            "text/plain": [
              "array([[0],\n",
              "       [1],\n",
              "       [2],\n",
              "       [3]])"
            ]
          },
          "metadata": {
            "tags": []
          },
          "execution_count": 37
        }
      ]
    },
    {
      "cell_type": "code",
      "metadata": {
        "colab": {
          "base_uri": "https://localhost:8080/"
        },
        "id": "pWyR7FMVG6Z2",
        "outputId": "aa594ee4-78f0-4ecc-9cc7-2a9524b7b380"
      },
      "source": [
        "arr + arr3"
      ],
      "execution_count": 38,
      "outputs": [
        {
          "output_type": "execute_result",
          "data": {
            "text/plain": [
              "array([[ 0,  1,  2,  3],\n",
              "       [ 5,  6,  7,  8],\n",
              "       [10, 11, 12, 13],\n",
              "       [15, 16, 17, 18]])"
            ]
          },
          "metadata": {
            "tags": []
          },
          "execution_count": 38
        }
      ]
    },
    {
      "cell_type": "code",
      "metadata": {
        "id": "ynrOHFCXHmqe"
      },
      "source": [
        "# ============================================================================================================================="
      ],
      "execution_count": 27,
      "outputs": []
    },
    {
      "cell_type": "code",
      "metadata": {
        "id": "E-1MR8keHmuH"
      },
      "source": [
        "# 집계 함수 : 데이터를 요약하여 통계를 볼 수 있게 도와주는 함수"
      ],
      "execution_count": 27,
      "outputs": []
    },
    {
      "cell_type": "code",
      "metadata": {
        "colab": {
          "base_uri": "https://localhost:8080/"
        },
        "id": "GVbNFzMrHmx2",
        "outputId": "1ef2df80-0b4b-4f3e-d3f4-b1d33dcbfe12"
      },
      "source": [
        "import numpy as np\n",
        "arr = np.arange(12).reshape(3,4)\n",
        "arr"
      ],
      "execution_count": 40,
      "outputs": [
        {
          "output_type": "execute_result",
          "data": {
            "text/plain": [
              "array([[ 0,  1,  2,  3],\n",
              "       [ 4,  5,  6,  7],\n",
              "       [ 8,  9, 10, 11]])"
            ]
          },
          "metadata": {
            "tags": []
          },
          "execution_count": 40
        }
      ]
    },
    {
      "cell_type": "code",
      "metadata": {
        "colab": {
          "base_uri": "https://localhost:8080/"
        },
        "id": "IqouJPWdHm03",
        "outputId": "fc950fd7-2d7d-41b9-cfd5-7fec28c532ca"
      },
      "source": [
        "np.sum(arr) # 합"
      ],
      "execution_count": 46,
      "outputs": [
        {
          "output_type": "execute_result",
          "data": {
            "text/plain": [
              "66"
            ]
          },
          "metadata": {
            "tags": []
          },
          "execution_count": 46
        }
      ]
    },
    {
      "cell_type": "code",
      "metadata": {
        "colab": {
          "base_uri": "https://localhost:8080/"
        },
        "id": "lFZ7eTH9JqO1",
        "outputId": "1be1a038-96b1-4202-c83e-d5b606166f4c"
      },
      "source": [
        "np.sum(arr, axis=0)"
      ],
      "execution_count": 47,
      "outputs": [
        {
          "output_type": "execute_result",
          "data": {
            "text/plain": [
              "array([12, 15, 18, 21])"
            ]
          },
          "metadata": {
            "tags": []
          },
          "execution_count": 47
        }
      ]
    },
    {
      "cell_type": "code",
      "metadata": {
        "colab": {
          "base_uri": "https://localhost:8080/"
        },
        "id": "sDUQ8ObZJmjK",
        "outputId": "f579e237-6abc-4900-baa1-3a751d46753a"
      },
      "source": [
        "np.sum(arr, axis=1)"
      ],
      "execution_count": 48,
      "outputs": [
        {
          "output_type": "execute_result",
          "data": {
            "text/plain": [
              "array([ 6, 22, 38])"
            ]
          },
          "metadata": {
            "tags": []
          },
          "execution_count": 48
        }
      ]
    },
    {
      "cell_type": "code",
      "metadata": {
        "colab": {
          "base_uri": "https://localhost:8080/"
        },
        "id": "5QPUM36WJWKc",
        "outputId": "90e8271d-7ec8-4b32-b2ca-4901bfcfcf6a"
      },
      "source": [
        "np.mean(arr)  # 평균"
      ],
      "execution_count": 42,
      "outputs": [
        {
          "output_type": "execute_result",
          "data": {
            "text/plain": [
              "5.5"
            ]
          },
          "metadata": {
            "tags": []
          },
          "execution_count": 42
        }
      ]
    },
    {
      "cell_type": "code",
      "metadata": {
        "colab": {
          "base_uri": "https://localhost:8080/"
        },
        "id": "IP1oEtdIHm4O",
        "outputId": "932232fc-631d-4d8a-c8b4-595f77dd5b31"
      },
      "source": [
        "np.max(arr) # 최대값"
      ],
      "execution_count": 43,
      "outputs": [
        {
          "output_type": "execute_result",
          "data": {
            "text/plain": [
              "11"
            ]
          },
          "metadata": {
            "tags": []
          },
          "execution_count": 43
        }
      ]
    },
    {
      "cell_type": "code",
      "metadata": {
        "colab": {
          "base_uri": "https://localhost:8080/"
        },
        "id": "cOixXf11Jd5x",
        "outputId": "3fc9ed4f-0958-4fef-e0a2-13a9336004e0"
      },
      "source": [
        "np.min(arr) # 최소값"
      ],
      "execution_count": 44,
      "outputs": [
        {
          "output_type": "execute_result",
          "data": {
            "text/plain": [
              "0"
            ]
          },
          "metadata": {
            "tags": []
          },
          "execution_count": 44
        }
      ]
    },
    {
      "cell_type": "code",
      "metadata": {
        "colab": {
          "base_uri": "https://localhost:8080/"
        },
        "id": "nRNMzesUJft0",
        "outputId": "8ee4257b-c8a0-49c1-973d-062438312a3f"
      },
      "source": [
        "np.std(arr) # 표준 편차"
      ],
      "execution_count": 52,
      "outputs": [
        {
          "output_type": "execute_result",
          "data": {
            "text/plain": [
              "3.452052529534663"
            ]
          },
          "metadata": {
            "tags": []
          },
          "execution_count": 52
        }
      ]
    },
    {
      "cell_type": "code",
      "metadata": {
        "id": "QZxQ10_qJi4A"
      },
      "source": [
        "# 마스킹 연산 : array에서 True/False 판별"
      ],
      "execution_count": 44,
      "outputs": []
    },
    {
      "cell_type": "code",
      "metadata": {
        "colab": {
          "base_uri": "https://localhost:8080/"
        },
        "id": "Vz7Us3SBJi6X",
        "outputId": "e0bf5c86-9de0-4b50-efd2-4c572d04e790"
      },
      "source": [
        "arr = np.arange(12).reshape(3,4)\n",
        "arr"
      ],
      "execution_count": 49,
      "outputs": [
        {
          "output_type": "execute_result",
          "data": {
            "text/plain": [
              "array([[ 0,  1,  2,  3],\n",
              "       [ 4,  5,  6,  7],\n",
              "       [ 8,  9, 10, 11]])"
            ]
          },
          "metadata": {
            "tags": []
          },
          "execution_count": 49
        }
      ]
    },
    {
      "cell_type": "code",
      "metadata": {
        "colab": {
          "base_uri": "https://localhost:8080/"
        },
        "id": "02rGFSviJ41h",
        "outputId": "d6218f32-6cb2-4b3f-9f39-d0cbee33c350"
      },
      "source": [
        "arr > 5"
      ],
      "execution_count": 50,
      "outputs": [
        {
          "output_type": "execute_result",
          "data": {
            "text/plain": [
              "array([[False, False, False, False],\n",
              "       [False, False,  True,  True],\n",
              "       [ True,  True,  True,  True]])"
            ]
          },
          "metadata": {
            "tags": []
          },
          "execution_count": 50
        }
      ]
    },
    {
      "cell_type": "code",
      "metadata": {
        "colab": {
          "base_uri": "https://localhost:8080/"
        },
        "id": "5xa0biaZJi8i",
        "outputId": "5eaa19d8-2ab6-488e-f588-35a743c35afa"
      },
      "source": [
        "arr[arr > 5]"
      ],
      "execution_count": 51,
      "outputs": [
        {
          "output_type": "execute_result",
          "data": {
            "text/plain": [
              "array([ 6,  7,  8,  9, 10, 11])"
            ]
          },
          "metadata": {
            "tags": []
          },
          "execution_count": 51
        }
      ]
    },
    {
      "cell_type": "code",
      "metadata": {
        "id": "Jh_3sSGlHnPD"
      },
      "source": [
        ""
      ],
      "execution_count": null,
      "outputs": []
    },
    {
      "cell_type": "code",
      "metadata": {
        "id": "yFqPdaueMLOo"
      },
      "source": [
        ""
      ],
      "execution_count": null,
      "outputs": []
    },
    {
      "cell_type": "code",
      "metadata": {
        "id": "dyTm-2EyG6cA"
      },
      "source": [
        ""
      ],
      "execution_count": 15,
      "outputs": []
    },
    {
      "cell_type": "code",
      "metadata": {
        "id": "NjccnyZiG6eT"
      },
      "source": [
        ""
      ],
      "execution_count": 15,
      "outputs": []
    },
    {
      "cell_type": "code",
      "metadata": {
        "id": "1t_VuWP5G6g9"
      },
      "source": [
        ""
      ],
      "execution_count": null,
      "outputs": []
    },
    {
      "cell_type": "code",
      "metadata": {
        "id": "CuxxWzm_L5zt"
      },
      "source": [
        ""
      ],
      "execution_count": 3,
      "outputs": []
    }
  ]
}